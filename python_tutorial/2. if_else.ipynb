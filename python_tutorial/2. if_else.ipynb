{
 "cells": [
  {
   "cell_type": "code",
   "outputs": [],
   "source": [
    "import math\n",
    "import os\n",
    "import random\n",
    "import re\n",
    "import sys"
   ],
   "metadata": {
    "collapsed": false,
    "ExecuteTime": {
     "end_time": "2024-03-22T04:11:41.108739Z",
     "start_time": "2024-03-22T04:11:41.105690Z"
    }
   },
   "id": "f628244788017c45",
   "execution_count": 21
  },
  {
   "cell_type": "code",
   "outputs": [
    {
     "name": "stdout",
     "output_type": "stream",
     "text": [
      "Weird\n"
     ]
    }
   ],
   "source": [
    "if __name__ == '__main__':\n",
    "    n = int(input().strip())\n",
    "    if n % 2 != 0: print(\"Weird\")\n",
    "    elif n in range(2,6): print(\"Not Weird\")\n",
    "    elif n in range(6,21): print(\"Weird\")\n",
    "    elif n > 20: print(\"Not Weird\")"
   ],
   "metadata": {
    "collapsed": false,
    "ExecuteTime": {
     "end_time": "2024-03-22T04:11:43.167948Z",
     "start_time": "2024-03-22T04:11:41.114581Z"
    }
   },
   "id": "ba3ec8dd0792e6b5",
   "execution_count": 22
  }
 ],
 "metadata": {
  "kernelspec": {
   "display_name": "Python 3",
   "language": "python",
   "name": "python3"
  },
  "language_info": {
   "codemirror_mode": {
    "name": "ipython",
    "version": 2
   },
   "file_extension": ".py",
   "mimetype": "text/x-python",
   "name": "python",
   "nbconvert_exporter": "python",
   "pygments_lexer": "ipython2",
   "version": "2.7.6"
  }
 },
 "nbformat": 4,
 "nbformat_minor": 5
}

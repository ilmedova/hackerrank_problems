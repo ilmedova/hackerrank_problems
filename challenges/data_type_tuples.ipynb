{
 "cells": [
  {
   "cell_type": "markdown",
   "source": [
    "Task\n",
    "Given an integer, , and  space-separated integers as input, create a tuple, , of those  integers. Then compute and print the result of .\n",
    "\n",
    "Note: hash() is one of the functions in the __builtins__ module, so it need not be imported.\n",
    "\n",
    "Input Format\n",
    "\n",
    "The first line contains an integer, , denoting the number of elements in the tuple.\n",
    "The second line contains  space-separated integers describing the elements in tuple .\n",
    "\n",
    "Output Format\n",
    "\n",
    "Print the result of .\n",
    "\n",
    "Sample Input 0\n",
    "\n",
    "2\n",
    "1 2\n",
    "Sample Output 0\n",
    "\n",
    "3713081631934410656"
   ],
   "metadata": {
    "collapsed": false
   },
   "id": "c7f77d54d1e122e5"
  }
 ],
 "metadata": {
  "kernelspec": {
   "display_name": "Python 3",
   "language": "python",
   "name": "python3"
  },
  "language_info": {
   "codemirror_mode": {
    "name": "ipython",
    "version": 2
   },
   "file_extension": ".py",
   "mimetype": "text/x-python",
   "name": "python",
   "nbconvert_exporter": "python",
   "pygments_lexer": "ipython2",
   "version": "2.7.6"
  }
 },
 "nbformat": 4,
 "nbformat_minor": 5
}
